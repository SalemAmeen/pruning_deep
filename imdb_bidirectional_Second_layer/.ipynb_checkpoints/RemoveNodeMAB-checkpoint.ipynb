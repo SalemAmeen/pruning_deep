{
 "cells": [
  {
   "cell_type": "markdown",
   "metadata": {},
   "source": [
    "# IMDB Movie reviews sentiment classification"
   ]
  },
  {
   "cell_type": "markdown",
   "metadata": {},
   "source": [
    "Compute the performance of MAB methods on IMDB Movie reviews sentiment classification\n",
    "# set parameters bidirectional LSTM:\n",
    "\n",
    "max_features = 20000\n",
    "maxlen = 100  # cut texts after this number of words (among top max_features most common words)\n",
    "batch_size = 32\n",
    "Play 180"
   ]
  },
  {
   "cell_type": "code",
   "execution_count": 1,
   "metadata": {
    "collapsed": true
   },
   "outputs": [],
   "source": [
    "import numpy as np\n",
    "from numpy import *\n",
    "import time\n",
    "import sys\n",
    "import matplotlib.pyplot as plt\n",
    "from sklearn import metrics\n",
    "from IPython.display import set_matplotlib_formats\n",
    "set_matplotlib_formats('png', 'pdf')\n",
    "%matplotlib inline\n",
    "#plt.rcParams['figure.figsize'] = (15, 6)"
   ]
  },
  {
   "cell_type": "code",
   "execution_count": 2,
   "metadata": {
    "collapsed": true
   },
   "outputs": [],
   "source": [
    "execfile(\"core.py\")"
   ]
  },
  {
   "cell_type": "code",
   "execution_count": 3,
   "metadata": {
    "collapsed": false
   },
   "outputs": [
    {
     "name": "stderr",
     "output_type": "stream",
     "text": [
      "Using Theano backend.\n",
      "Using gpu device 0: GeForce GTX TITAN X (CNMeM is disabled, cuDNN 5005)\n"
     ]
    },
    {
     "name": "stdout",
     "output_type": "stream",
     "text": [
      "Loading data...\n",
      "20000 train sequences\n",
      "5000 test sequences\n",
      "Pad sequences (samples x time)\n",
      "X_train shape: (20000, 100)\n",
      "X_test shape: (5000, 100)\n",
      "5000/5000 [==============================] - 8s     \n",
      "Test score: 0.621557247506\n",
      "Test accuracy: 0.8312\n"
     ]
    }
   ],
   "source": [
    "execfile(\"imdbTest.py\")"
   ]
  },
  {
   "cell_type": "markdown",
   "metadata": {},
   "source": [
    "# Summary of the model"
   ]
  },
  {
   "cell_type": "code",
   "execution_count": 4,
   "metadata": {
    "collapsed": false
   },
   "outputs": [
    {
     "name": "stdout",
     "output_type": "stream",
     "text": [
      "____________________________________________________________________________________________________\n",
      "Layer (type)                       Output Shape        Param #     Connected to                     \n",
      "====================================================================================================\n",
      "input_1 (InputLayer)               (None, 100)         0                                            \n",
      "____________________________________________________________________________________________________\n",
      "embedding_1 (Embedding)            (None, 100, 128)    2560000     input_1[0][0]                    \n",
      "____________________________________________________________________________________________________\n",
      "lstm_1 (LSTM)                      (None, 64)          49408       embedding_1[0][0]                \n",
      "____________________________________________________________________________________________________\n",
      "lstm_2 (LSTM)                      (None, 64)          49408       embedding_1[0][0]                \n",
      "____________________________________________________________________________________________________\n",
      "merge_1 (Merge)                    (None, 128)         0           lstm_1[0][0]                     \n",
      "                                                                   lstm_2[0][0]                     \n",
      "____________________________________________________________________________________________________\n",
      "dropout_1 (Dropout)                (None, 128)         0           merge_1[0][0]                    \n",
      "____________________________________________________________________________________________________\n",
      "dense_1 (Dense)                    (None, 1)           129         dropout_1[0][0]                  \n",
      "====================================================================================================\n",
      "Total params: 2658945\n",
      "____________________________________________________________________________________________________\n"
     ]
    }
   ],
   "source": [
    "model.summary()"
   ]
  },
  {
   "cell_type": "markdown",
   "metadata": {},
   "source": [
    "Neurals from lstm_2 (LSTM)  will be removed"
   ]
  },
  {
   "cell_type": "markdown",
   "metadata": {},
   "source": [
    "# Run UCB1 pruning Algorithm"
   ]
  },
  {
   "cell_type": "code",
   "execution_count": 5,
   "metadata": {
    "collapsed": false
   },
   "outputs": [
    {
     "name": "stdout",
     "output_type": "stream",
     "text": [
      "Loading data...\n",
      "20000 train sequences\n",
      "5000 test sequences\n",
      "Pad sequences (samples x time)\n",
      "X_train shape: (20000, 100)\n",
      "X_test shape: (5000, 100)\n",
      "5000/5000 [==============================] - 8s     \n",
      "Test score: 0.621557247506\n",
      "Test accuracy: 0.8211\n",
      "The time for running this method is 1409.88056397 seconds \n",
      "Finsh playing start pruining:\n",
      "Test after pruning= 0.83\n",
      "Test after pruning= 0.83\n",
      "Test after pruning= 0.83\n",
      "Test after pruning= 0.83\n",
      "Test after pruning= 0.83\n",
      "Test after pruning= 0.83\n",
      "Test after pruning= 0.83\n",
      "Test after pruning= 0.83\n",
      "Test after pruning= 0.83\n",
      "Test after pruning= 0.83\n",
      "Test after pruning= 0.83\n",
      "Test after pruning= 0.83\n",
      "Test after pruning= 0.83\n",
      "Test after pruning= 0.83\n",
      "Test after pruning= 0.83\n",
      "Test after pruning= 0.83\n",
      "Test after pruning= 0.83\n",
      "Test after pruning= 0.83\n",
      "Test after pruning= 0.83\n",
      "Test after pruning= 0.83\n",
      "Test after pruning= 0.83\n",
      "Test after pruning= 0.83\n",
      "Test after pruning= 0.83\n",
      "Test after pruning= 0.83\n",
      "Test after pruning= 0.83\n",
      "Test after pruning= 0.83\n",
      "Test after pruning= 0.83\n",
      "Test after pruning= 0.83\n",
      "Test after pruning= 0.83\n",
      "Test after pruning= 0.83\n",
      "Test after pruning= 0.83\n",
      "Test after pruning= 0.83\n",
      "Test after pruning= 0.83\n",
      "Test after pruning= 0.83\n",
      "Test after pruning= 0.83\n",
      "Test after pruning= 0.83\n",
      "Test after pruning= 0.83\n",
      "Test after pruning= 0.83\n",
      "Test after pruning= 0.83\n",
      "Test after pruning= 0.83\n",
      "Test after pruning= 0.83\n",
      "Test after pruning= 0.83\n",
      "Test after pruning= 0.83\n",
      "Test after pruning= 0.83\n",
      "Test after pruning= 0.83\n",
      "Test after pruning= 0.83\n",
      "Test after pruning= 0.83\n",
      "Test after pruning= 0.83\n",
      "Test after pruning= 0.83\n",
      "Test after pruning= 0.83\n"
     ]
    },
    {
     "data": {
      "image/png": "[encoded data removed]",
      "text/plain": [
       "<matplotlib.figure.Figure at 0x7f531b35be10>"
      ]
     },
     "metadata": {},
     "output_type": "display_data"
    }
   ],
   "source": [
    "algo = UCB1([], [])\n",
    "Alg_name = 'UCB1 Algorithm'\n",
    "path = './IrisUCB1/'\n",
    "sys.path.append(\"./IrisUCB1\")\n",
    "execfile('mnist_cnnFORTESTING.py')"
   ]
  },
  {
   "cell_type": "markdown",
   "metadata": {},
   "source": [
    "# Run Annealing Epsilon Greedy pruning Algorithm"
   ]
  },
  {
   "cell_type": "code",
   "execution_count": 6,
   "metadata": {
    "collapsed": false
   },
   "outputs": [
    {
     "name": "stdout",
     "output_type": "stream",
     "text": [
      "Loading data...\n",
      "20000 train sequences\n",
      "5000 test sequences\n",
      "Pad sequences (samples x time)\n",
      "X_train shape: (20000, 100)\n",
      "X_test shape: (5000, 100)\n",
      "5000/5000 [==============================] - 8s     \n",
      "Test score: 0.621557247506\n",
      "Test accuracy: 0.8211\n",
      "The time for running this method is 1417.80616498 seconds \n",
      "Finsh playing start pruining:\n",
      "Test after pruning= 0.83\n",
      "Test after pruning= 0.83\n",
      "Test after pruning= 0.83\n",
      "Test after pruning= 0.83\n",
      "Test after pruning= 0.83\n",
      "Test after pruning= 0.83\n",
      "Test after pruning= 0.83\n",
      "Test after pruning= 0.83\n",
      "Test after pruning= 0.83\n",
      "Test after pruning= 0.83\n",
      "Test after pruning= 0.83\n",
      "Test after pruning= 0.83\n",
      "Test after pruning= 0.83\n",
      "Test after pruning= 0.83\n",
      "Test after pruning= 0.83\n",
      "Test after pruning= 0.83\n",
      "Test after pruning= 0.83\n",
      "Test after pruning= 0.83\n",
      "Test after pruning= 0.83\n",
      "Test after pruning= 0.83\n",
      "Test after pruning= 0.83\n",
      "Test after pruning= 0.83\n",
      "Test after pruning= 0.83\n",
      "Test after pruning= 0.83\n",
      "Test after pruning= 0.83\n",
      "Test after pruning= 0.83\n",
      "Test after pruning= 0.83\n",
      "Test after pruning= 0.83\n",
      "Test after pruning= 0.83\n",
      "Test after pruning= 0.83\n",
      "Test after pruning= 0.83\n",
      "Test after pruning= 0.83\n",
      "Test after pruning= 0.83\n",
      "Test after pruning= 0.83\n",
      "Test after pruning= 0.83\n",
      "Test after pruning= 0.83\n",
      "Test after pruning= 0.83\n",
      "Test after pruning= 0.83\n",
      "Test after pruning= 0.83\n",
      "Test after pruning= 0.83\n",
      "Test after pruning= 0.83\n",
      "Test after pruning= 0.83\n",
      "Test after pruning= 0.83\n",
      "Test after pruning= 0.83\n",
      "Test after pruning= 0.83\n",
      "Test after pruning= 0.83\n",
      "Test after pruning= 0.83\n",
      "Test after pruning= 0.83\n",
      "Test after pruning= 0.83\n",
      "Test after pruning= 0.83\n"
     ]
    },
    {
     "data": {
      "image/png": "[encoded data removed]",
      "text/plain": [
       "<matplotlib.figure.Figure at 0x7f52fda7f390>"
      ]
     },
     "metadata": {},
     "output_type": "display_data"
    }
   ],
   "source": [
    "algo = AnnealingEpsilonGreedy([], [])\n",
    "Alg_name = 'Annealing Epsilon Greedy Algorithm'\n",
    "path = './IrisAnnealingEpsilonGreedy/'\n",
    "sys.path.append(\"./IrisAnnealingEpsilonGreedy\")\n",
    "execfile('mnist_cnnFORTESTING.py')"
   ]
  },
  {
   "cell_type": "markdown",
   "metadata": {},
   "source": [
    "# Run Epsilon Greedy pruning Algorithm"
   ]
  },
  {
   "cell_type": "code",
   "execution_count": 7,
   "metadata": {
    "collapsed": false
   },
   "outputs": [
    {
     "name": "stdout",
     "output_type": "stream",
     "text": [
      "Loading data...\n",
      "20000 train sequences\n",
      "5000 test sequences\n",
      "Pad sequences (samples x time)\n",
      "X_train shape: (20000, 100)\n",
      "X_test shape: (5000, 100)\n",
      "5000/5000 [==============================] - 7s     \n",
      "Test score: 0.621557247506\n",
      "Test accuracy: 0.8211\n",
      "The time for running this method is 1410.04659796 seconds \n",
      "Finsh playing start pruining:\n",
      "Test after pruning= 0.83\n",
      "Test after pruning= 0.83\n",
      "Test after pruning= 0.83\n",
      "Test after pruning= 0.83\n",
      "Test after pruning= 0.83\n",
      "Test after pruning= 0.83\n",
      "Test after pruning= 0.83\n",
      "Test after pruning= 0.83\n",
      "Test after pruning= 0.83\n",
      "Test after pruning= 0.83\n",
      "Test after pruning= 0.83\n",
      "Test after pruning= 0.83\n",
      "Test after pruning= 0.83\n",
      "Test after pruning= 0.83\n",
      "Test after pruning= 0.83\n",
      "Test after pruning= 0.83\n",
      "Test after pruning= 0.83\n",
      "Test after pruning= 0.83\n",
      "Test after pruning= 0.83\n",
      "Test after pruning= 0.83\n",
      "Test after pruning= 0.83\n",
      "Test after pruning= 0.83\n",
      "Test after pruning= 0.83\n",
      "Test after pruning= 0.83\n",
      "Test after pruning= 0.83\n",
      "Test after pruning= 0.83\n",
      "Test after pruning= 0.83\n",
      "Test after pruning= 0.83\n",
      "Test after pruning= 0.83\n",
      "Test after pruning= 0.83\n",
      "Test after pruning= 0.83\n",
      "Test after pruning= 0.83\n",
      "Test after pruning= 0.83\n",
      "Test after pruning= 0.83\n",
      "Test after pruning= 0.83\n",
      "Test after pruning= 0.83\n",
      "Test after pruning= 0.83\n",
      "Test after pruning= 0.83\n",
      "Test after pruning= 0.83\n",
      "Test after pruning= 0.83\n",
      "Test after pruning= 0.83\n",
      "Test after pruning= 0.83\n",
      "Test after pruning= 0.83\n",
      "Test after pruning= 0.83\n",
      "Test after pruning= 0.83\n",
      "Test after pruning= 0.83\n",
      "Test after pruning= 0.83\n",
      "Test after pruning= 0.83\n",
      "Test after pruning= 0.83\n",
      "Test after pruning= 0.83\n"
     ]
    },
    {
     "data": {
      "image/png": "[encoded data removed]",
      "text/plain": [
       "<matplotlib.figure.Figure at 0x7f52fded0090>"
      ]
     },
     "metadata": {},
     "output_type": "display_data"
    }
   ],
   "source": [
    "epsilon = 0.9 # epsilon = (0,1)\n",
    "algo = EpsilonGreedy(epsilon, [], [])\n",
    "Alg_name = 'Epsilon Greedy Algorithm'\n",
    "path = './IrisEpsilonGreedy/'\n",
    "sys.path.append(\"./IrisAnnealingEpsilonGreedy\")\n",
    "execfile('mnist_cnnFORTESTING.py')"
   ]
  },
  {
   "cell_type": "markdown",
   "metadata": {},
   "source": [
    "# Run Exp3 pruning Algorithm"
   ]
  },
  {
   "cell_type": "code",
   "execution_count": 8,
   "metadata": {
    "collapsed": false,
    "scrolled": true
   },
   "outputs": [
    {
     "name": "stdout",
     "output_type": "stream",
     "text": [
      "Loading data...\n",
      "20000 train sequences\n",
      "5000 test sequences\n",
      "Pad sequences (samples x time)\n",
      "X_train shape: (20000, 100)\n",
      "X_test shape: (5000, 100)\n",
      "5000/5000 [==============================] - 7s     \n",
      "Test score: 0.477719034672\n",
      "Test accuracy: 0.7919\n",
      "The time for running this method is 1372.75765896 seconds \n",
      "Finsh playing start pruining:\n",
      "Test after pruning= 0.80\n",
      "Test after pruning= 0.80\n",
      "Test after pruning= 0.80\n",
      "Test after pruning= 0.80\n",
      "Test after pruning= 0.80\n",
      "Test after pruning= 0.80\n",
      "Test after pruning= 0.80\n",
      "Test after pruning= 0.80\n",
      "Test after pruning= 0.80\n",
      "Test after pruning= 0.80\n",
      "Test after pruning= 0.80\n",
      "Test after pruning= 0.80\n",
      "Test after pruning= 0.80\n",
      "Test after pruning= 0.80\n",
      "Test after pruning= 0.80\n",
      "Test after pruning= 0.80\n",
      "Test after pruning= 0.80\n",
      "Test after pruning= 0.80\n",
      "Test after pruning= 0.80\n",
      "Test after pruning= 0.80\n",
      "Test after pruning= 0.80\n",
      "Test after pruning= 0.80\n",
      "Test after pruning= 0.80\n",
      "Test after pruning= 0.80\n",
      "Test after pruning= 0.80\n",
      "Test after pruning= 0.80\n",
      "Test after pruning= 0.80\n",
      "Test after pruning= 0.80\n",
      "Test after pruning= 0.80\n",
      "Test after pruning= 0.80\n",
      "Test after pruning= 0.80\n",
      "Test after pruning= 0.80\n",
      "Test after pruning= 0.80\n",
      "Test after pruning= 0.80\n",
      "Test after pruning= 0.80\n",
      "Test after pruning= 0.80\n",
      "Test after pruning= 0.80\n",
      "Test after pruning= 0.80\n",
      "Test after pruning= 0.80\n",
      "Test after pruning= 0.80\n",
      "Test after pruning= 0.80\n",
      "Test after pruning= 0.80\n",
      "Test after pruning= 0.80\n",
      "Test after pruning= 0.80\n",
      "Test after pruning= 0.80\n",
      "Test after pruning= 0.80\n",
      "Test after pruning= 0.80\n",
      "Test after pruning= 0.80\n",
      "Test after pruning= 0.80\n",
      "Test after pruning= 0.80\n"
     ]
    },
    {
     "data": {
      "image/png": "[encoded data removed]",
      "text/plain": [
       "<matplotlib.figure.Figure at 0x7f5301b97b90>"
      ]
     },
     "metadata": {},
     "output_type": "display_data"
    }
   ],
   "source": [
    "exp3_gamma = 0.2 #exp3_gamma in [0.1, 0.2, 0.3, 0.4, 0.5]\n",
    "algo = Exp3(exp3_gamma, [])\n",
    "Alg_name = 'Exp3 Algorithm'\n",
    "path = './IrisExp3/'\n",
    "sys.path.append(\"./IrisEpsilonGreedy\")\n",
    "execfile('mnist_cnnFORTESTING.py')"
   ]
  },
  {
   "cell_type": "markdown",
   "metadata": {},
   "source": [
    "# Run Softmax pruning Algorithm"
   ]
  },
  {
   "cell_type": "code",
   "execution_count": 9,
   "metadata": {
    "collapsed": false
   },
   "outputs": [
    {
     "name": "stdout",
     "output_type": "stream",
     "text": [
      "Loading data...\n",
      "20000 train sequences\n",
      "5000 test sequences\n",
      "Pad sequences (samples x time)\n",
      "X_train shape: (20000, 100)\n",
      "X_test shape: (5000, 100)\n",
      "5000/5000 [==============================] - 7s     \n",
      "Test score: 0.621557247506\n",
      "Test accuracy: 0.8211\n",
      "The time for running this method is 1386.67978406 seconds \n",
      "Finsh playing start pruining:\n",
      "Test after pruning= 0.83\n",
      "Test after pruning= 0.83\n",
      "Test after pruning= 0.83\n",
      "Test after pruning= 0.83\n",
      "Test after pruning= 0.83\n",
      "Test after pruning= 0.83\n",
      "Test after pruning= 0.83\n",
      "Test after pruning= 0.83\n",
      "Test after pruning= 0.83\n",
      "Test after pruning= 0.83\n",
      "Test after pruning= 0.83\n",
      "Test after pruning= 0.83\n",
      "Test after pruning= 0.83\n",
      "Test after pruning= 0.83\n",
      "Test after pruning= 0.83\n",
      "Test after pruning= 0.83\n",
      "Test after pruning= 0.83\n",
      "Test after pruning= 0.83\n",
      "Test after pruning= 0.83\n",
      "Test after pruning= 0.83\n",
      "Test after pruning= 0.83\n",
      "Test after pruning= 0.83\n",
      "Test after pruning= 0.83\n",
      "Test after pruning= 0.83\n",
      "Test after pruning= 0.83\n",
      "Test after pruning= 0.83\n",
      "Test after pruning= 0.83\n",
      "Test after pruning= 0.83\n",
      "Test after pruning= 0.83\n",
      "Test after pruning= 0.83\n",
      "Test after pruning= 0.83\n",
      "Test after pruning= 0.83\n",
      "Test after pruning= 0.83\n",
      "Test after pruning= 0.83\n",
      "Test after pruning= 0.83\n",
      "Test after pruning= 0.83\n",
      "Test after pruning= 0.83\n",
      "Test after pruning= 0.83\n",
      "Test after pruning= 0.83\n",
      "Test after pruning= 0.83\n",
      "Test after pruning= 0.83\n",
      "Test after pruning= 0.83\n",
      "Test after pruning= 0.83\n",
      "Test after pruning= 0.83\n",
      "Test after pruning= 0.83\n",
      "Test after pruning= 0.83\n",
      "Test after pruning= 0.83\n",
      "Test after pruning= 0.83\n",
      "Test after pruning= 0.83\n",
      "Test after pruning= 0.83\n"
     ]
    },
    {
     "data": {
      "image/png": "[encoded data removed]",
      "text/plain": [
       "<matplotlib.figure.Figure at 0x7f52fc2fc410>"
      ]
     },
     "metadata": {},
     "output_type": "display_data"
    }
   ],
   "source": [
    "temperature = 0.9\n",
    "algo = Softmax(temperature, [], [])\n",
    "Alg_name = 'Softmax Algorithm'\n",
    "path = './IrisSoftmax/'\n",
    "sys.path.append(\"./IrisSoftmax\")\n",
    "execfile('mnist_cnnFORTESTING.py')"
   ]
  },
  {
   "cell_type": "markdown",
   "metadata": {},
   "source": [
    "# Run Annealing Softmax pruning Algorithm"
   ]
  },
  {
   "cell_type": "code",
   "execution_count": 10,
   "metadata": {
    "collapsed": false
   },
   "outputs": [
    {
     "name": "stdout",
     "output_type": "stream",
     "text": [
      "Loading data...\n",
      "20000 train sequences\n",
      "5000 test sequences\n",
      "Pad sequences (samples x time)\n",
      "X_train shape: (20000, 100)\n",
      "X_test shape: (5000, 100)\n",
      "5000/5000 [==============================] - 7s     \n",
      "Test score: 0.621557247506\n",
      "Test accuracy: 0.8211\n",
      "The time for running this method is 1371.95232391 seconds \n",
      "Finsh playing start pruining:\n",
      "Test after pruning= 0.83\n",
      "Test after pruning= 0.83\n",
      "Test after pruning= 0.83\n",
      "Test after pruning= 0.83\n",
      "Test after pruning= 0.83\n",
      "Test after pruning= 0.83\n",
      "Test after pruning= 0.83\n",
      "Test after pruning= 0.83\n",
      "Test after pruning= 0.83\n",
      "Test after pruning= 0.83\n",
      "Test after pruning= 0.83\n",
      "Test after pruning= 0.83\n",
      "Test after pruning= 0.83\n",
      "Test after pruning= 0.83\n",
      "Test after pruning= 0.83\n",
      "Test after pruning= 0.83\n",
      "Test after pruning= 0.83\n",
      "Test after pruning= 0.83\n",
      "Test after pruning= 0.83\n",
      "Test after pruning= 0.83\n",
      "Test after pruning= 0.83\n",
      "Test after pruning= 0.83\n",
      "Test after pruning= 0.83\n",
      "Test after pruning= 0.83\n",
      "Test after pruning= 0.83\n",
      "Test after pruning= 0.83\n",
      "Test after pruning= 0.83\n",
      "Test after pruning= 0.83\n",
      "Test after pruning= 0.83\n",
      "Test after pruning= 0.83\n",
      "Test after pruning= 0.83\n",
      "Test after pruning= 0.83\n",
      "Test after pruning= 0.83\n",
      "Test after pruning= 0.83\n",
      "Test after pruning= 0.83\n",
      "Test after pruning= 0.83\n",
      "Test after pruning= 0.83\n",
      "Test after pruning= 0.83\n",
      "Test after pruning= 0.83\n",
      "Test after pruning= 0.83\n",
      "Test after pruning= 0.83\n",
      "Test after pruning= 0.83\n",
      "Test after pruning= 0.83\n",
      "Test after pruning= 0.83\n",
      "Test after pruning= 0.83\n",
      "Test after pruning= 0.83\n",
      "Test after pruning= 0.83\n",
      "Test after pruning= 0.83\n",
      "Test after pruning= 0.83\n",
      "Test after pruning= 0.83\n"
     ]
    },
    {
     "data": {
      "image/png": "[encoded data removed]",
      "text/plain": [
       "<matplotlib.figure.Figure at 0x7f532c023c50>"
      ]
     },
     "metadata": {},
     "output_type": "display_data"
    }
   ],
   "source": [
    "algo = AnnealingSoftmax([], [])\n",
    "Alg_name = 'Annealing Softmax Algorithm'\n",
    "path = './IrisAnnealingSoftmax/'\n",
    "sys.path.append(\"./IrisAnnealingSoftmax\")\n",
    "execfile('mnist_cnnFORTESTING.py')"
   ]
  },
  {
   "cell_type": "markdown",
   "metadata": {},
   "source": [
    "# Run Hedge pruning Algorithm"
   ]
  },
  {
   "cell_type": "code",
   "execution_count": 11,
   "metadata": {
    "collapsed": false
   },
   "outputs": [
    {
     "name": "stdout",
     "output_type": "stream",
     "text": [
      "Loading data...\n",
      "20000 train sequences\n",
      "5000 test sequences\n",
      "Pad sequences (samples x time)\n",
      "X_train shape: (20000, 100)\n",
      "X_test shape: (5000, 100)\n",
      "5000/5000 [==============================] - 7s     \n",
      "Test score: 0.621557247506\n",
      "Test accuracy: 0.8211\n",
      "The time for running this method is 1379.63520694 seconds \n",
      "Finsh playing start pruining:\n",
      "Test after pruning= 0.83\n",
      "Test after pruning= 0.83\n",
      "Test after pruning= 0.83\n",
      "Test after pruning= 0.83\n",
      "Test after pruning= 0.83\n",
      "Test after pruning= 0.83\n",
      "Test after pruning= 0.83\n",
      "Test after pruning= 0.83\n",
      "Test after pruning= 0.83\n",
      "Test after pruning= 0.83\n",
      "Test after pruning= 0.83\n",
      "Test after pruning= 0.83\n",
      "Test after pruning= 0.83\n",
      "Test after pruning= 0.83\n",
      "Test after pruning= 0.83\n",
      "Test after pruning= 0.83\n",
      "Test after pruning= 0.83\n",
      "Test after pruning= 0.83\n",
      "Test after pruning= 0.83\n",
      "Test after pruning= 0.83\n",
      "Test after pruning= 0.83\n",
      "Test after pruning= 0.83\n",
      "Test after pruning= 0.83\n",
      "Test after pruning= 0.83\n",
      "Test after pruning= 0.83\n",
      "Test after pruning= 0.83\n",
      "Test after pruning= 0.83\n",
      "Test after pruning= 0.83\n",
      "Test after pruning= 0.83\n",
      "Test after pruning= 0.83\n",
      "Test after pruning= 0.83\n",
      "Test after pruning= 0.83\n",
      "Test after pruning= 0.83\n",
      "Test after pruning= 0.83\n",
      "Test after pruning= 0.83\n",
      "Test after pruning= 0.83\n",
      "Test after pruning= 0.83\n",
      "Test after pruning= 0.83\n",
      "Test after pruning= 0.83\n",
      "Test after pruning= 0.83\n",
      "Test after pruning= 0.83\n",
      "Test after pruning= 0.83\n",
      "Test after pruning= 0.83\n",
      "Test after pruning= 0.83\n",
      "Test after pruning= 0.83\n",
      "Test after pruning= 0.83\n",
      "Test after pruning= 0.83\n",
      "Test after pruning= 0.83\n",
      "Test after pruning= 0.83\n",
      "Test after pruning= 0.83\n"
     ]
    },
    {
     "data": {
      "image/png": "[encoded data removed]",
      "text/plain": [
       "<matplotlib.figure.Figure at 0x7f52fb971a90>"
      ]
     },
     "metadata": {},
     "output_type": "display_data"
    }
   ],
   "source": [
    "eta = 0.9  # eta in [.5, .8, .9, 1, 2]\n",
    "algo = Hedge(eta, [], []) \n",
    "Alg_name = 'Hedge Algorithm'\n",
    "path = './IrisHedge/'\n",
    "sys.path.append(\"./IrisHedge\")\n",
    "execfile('mnist_cnnFORTESTING.py')"
   ]
  },
  {
   "cell_type": "markdown",
   "metadata": {},
   "source": [
    "# Compare the accuracy of the models"
   ]
  },
  {
   "cell_type": "code",
   "execution_count": 12,
   "metadata": {
    "collapsed": false
   },
   "outputs": [],
   "source": [
    "AccBefore = np.load('/home/salm/Documents/imdb_bidirectional/AccuracyBEFOREPrune.npy')\n",
    "ucb1 = np.load('/home/salm/Documents/imdb_bidirectional/IrisUCB1/AccuracyAftrerPrune.npy')\n",
    "EpsilonGreedy = np.load('/home/salm/Documents/imdb_bidirectional/IrisEpsilonGreedy/AccuracyAftrerPrune.npy')\n",
    "AnnealingEpsilonGreedy = np.load('/home/salm/Documents/imdb_bidirectional/IrisAnnealingEpsilonGreedy/AccuracyAftrerPrune.npy')\n",
    "Softmax = np.load('/home/salm/Documents/imdb_bidirectional/IrisSoftmax/AccuracyAftrerPrune.npy')\n",
    "AnnealingSoftmax = np.load('/home/salm/Documents/imdb_bidirectional/IrisAnnealingEpsilonGreedy/AccuracyAftrerPrune.npy')\n",
    "Exp3 = np.load('/home/salm/Documents/imdb_bidirectional/IrisExp3/AccuracyAftrerPrune.npy')\n",
    "Hedge = np.load('/home/salm/Documents/imdb_bidirectional/IrisHedge/AccuracyAftrerPrune.npy')"
   ]
  },
  {
   "cell_type": "code",
   "execution_count": 13,
   "metadata": {
    "collapsed": false
   },
   "outputs": [
    {
     "data": {
      "image/png": "[encoded data removed]",
      "text/plain": [
       "<matplotlib.figure.Figure at 0x7f52fb8d7590>"
      ]
     },
     "metadata": {},
     "output_type": "display_data"
    }
   ],
   "source": [
    "fig = plt.figure(figsize=(10, 6), dpi=80)\n",
    "ax = fig.add_subplot(111)\n",
    "N = len(ucb1)\n",
    "## necessary variables\n",
    "ind = np.arange(N)                # the x locations for the groups\n",
    "plt.plot(ind , ucb1 , color=\"blue\", linewidth=2.5, linestyle=\"-\", label=\"UCB1\")\n",
    "plt.plot(ind , EpsilonGreedy, color=\"red\", linewidth=2.5, linestyle=\"-\", label=\"Epsilon Greedy\")\n",
    "plt.plot(ind , AnnealingEpsilonGreedy, color=\"cyan\", linewidth=2.5, linestyle=\"-\", label=\"Annealing Epsilon Greedy\")\n",
    "plt.plot(ind , Softmax, color=\"magenta\", linewidth=2.5, linestyle=\"-\", label=\"Softmax\")\n",
    "plt.plot(ind , AnnealingSoftmax, color=\"yellow\", linewidth=2.5, linestyle=\"-\", label=\"Annealing Softmax\")\n",
    "plt.plot(ind , Exp3, color=\"black\", linewidth=2.5, linestyle=\"-\", label=\"Exp3\")\n",
    "plt.plot(ind , Hedge, color=\"green\", linewidth=2.5, linestyle=\"-\", label=\"Hedge\")\n",
    "plt.plot(ind , AccBefore, color=\"0.75\", linewidth=2.5, linestyle=\"-\", label=\"Acc Before Pruning\")\n",
    "plt.legend(loc = 3)\n",
    "plt.axis([0, 50, 0, 1])\n",
    "plt.grid(True)\n",
    "plt.show()"
   ]
  }
 ],
 "metadata": {
  "kernelspec": {
   "display_name": "Python 2",
   "language": "python",
   "name": "python2"
  },
  "language_info": {
   "codemirror_mode": {
    "name": "ipython",
    "version": 2
   },
   "file_extension": ".py",
   "mimetype": "text/x-python",
   "name": "python",
   "nbconvert_exporter": "python",
   "pygments_lexer": "ipython2",
   "version": "2.7.11"
  }
 },
 "nbformat": 4,
 "nbformat_minor": 0
}
