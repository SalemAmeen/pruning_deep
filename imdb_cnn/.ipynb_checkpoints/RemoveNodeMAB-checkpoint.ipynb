{
 "cells": [
  {
   "cell_type": "markdown",
   "metadata": {},
   "source": [
    "# IMDB Movie reviews sentiment classification"
   ]
  },
  {
   "cell_type": "markdown",
   "metadata": {},
   "source": [
    "Compute the performance of MAB methods on IMDB Movie reviews sentiment classification\n",
    "# set parameters:\n",
    "max_features = 5000\n",
    "maxlen = 400\n",
    "batch_size = 32\n",
    "embedding_dims = 50\n",
    "nb_filter = 250\n",
    "filter_length = 3\n",
    "hidden_dims = 250\n",
    "nb_epoch = 2\n",
    "Play 800"
   ]
  },
  {
   "cell_type": "code",
   "execution_count": 1,
   "metadata": {
    "collapsed": true
   },
   "outputs": [],
   "source": [
    "import numpy as np\n",
    "from numpy import *\n",
    "import time\n",
    "import sys\n",
    "import matplotlib.pyplot as plt\n",
    "from sklearn import metrics\n",
    "from IPython.display import set_matplotlib_formats\n",
    "set_matplotlib_formats('png', 'pdf')\n",
    "%matplotlib inline\n",
    "#plt.rcParams['figure.figsize'] = (15, 6)"
   ]
  },
  {
   "cell_type": "code",
   "execution_count": 2,
   "metadata": {
    "collapsed": true
   },
   "outputs": [],
   "source": [
    "execfile(\"core.py\")"
   ]
  },
  {
   "cell_type": "code",
   "execution_count": 3,
   "metadata": {
    "collapsed": false
   },
   "outputs": [
    {
     "name": "stderr",
     "output_type": "stream",
     "text": [
      "Using Theano backend.\n",
      "Using gpu device 0: GeForce GTX TITAN X (CNMeM is disabled, cuDNN 5005)\n"
     ]
    },
    {
     "name": "stdout",
     "output_type": "stream",
     "text": [
      "Loading data...\n",
      "20000 train sequences\n",
      "5000 test sequences\n",
      "Pad sequences (samples x time)\n",
      "X_train shape: (20000, 400)\n",
      "X_test shape: (5000, 400)\n",
      "Build model...\n",
      "Test score: 0.286607864857\n",
      "Test accuracy: 0.8695\n"
     ]
    }
   ],
   "source": [
    "execfile(\"imdbTest.py\")"
   ]
  },
  {
   "cell_type": "markdown",
   "metadata": {},
   "source": [
    "# Summary of the model"
   ]
  },
  {
   "cell_type": "code",
   "execution_count": 4,
   "metadata": {
    "collapsed": false
   },
   "outputs": [
    {
     "name": "stdout",
     "output_type": "stream",
     "text": [
      "____________________________________________________________________________________________________\n",
      "Layer (type)                       Output Shape        Param #     Connected to                     \n",
      "====================================================================================================\n",
      "embedding_1 (Embedding)            (None, 400, 50)     250000      embedding_input_1[0][0]          \n",
      "____________________________________________________________________________________________________\n",
      "convolution1d_1 (Convolution1D)    (None, 398, 250)    37750       embedding_1[0][0]                \n",
      "____________________________________________________________________________________________________\n",
      "lambda_1 (Lambda)                  (None, 250)         0           convolution1d_1[0][0]            \n",
      "____________________________________________________________________________________________________\n",
      "dense_1 (Dense)                    (None, 250)         62750       lambda_1[0][0]                   \n",
      "____________________________________________________________________________________________________\n",
      "dropout_1 (Dropout)                (None, 250)         0           dense_1[0][0]                    \n",
      "____________________________________________________________________________________________________\n",
      "activation_1 (Activation)          (None, 250)         0           dropout_1[0][0]                  \n",
      "____________________________________________________________________________________________________\n",
      "dense_2 (Dense)                    (None, 1)           251         activation_1[0][0]               \n",
      "____________________________________________________________________________________________________\n",
      "activation_2 (Activation)          (None, 1)           0           dense_2[0][0]                    \n",
      "====================================================================================================\n",
      "Total params: 350751\n",
      "____________________________________________________________________________________________________\n"
     ]
    }
   ],
   "source": [
    "model.summary()"
   ]
  },
  {
   "cell_type": "markdown",
   "metadata": {},
   "source": [
    "# Run UCB1 pruning Algorithm"
   ]
  },
  {
   "cell_type": "code",
   "execution_count": 5,
   "metadata": {
    "collapsed": false
   },
   "outputs": [
    {
     "name": "stdout",
     "output_type": "stream",
     "text": [
      "Loading data...\n",
      "20000 train sequences\n",
      "5000 test sequences\n",
      "Pad sequences (samples x time)\n",
      "X_train shape: (20000, 400)\n",
      "X_test shape: (5000, 400)\n",
      "Build model...\n",
      "Test score: 0.286607864857\n",
      "Test accuracy: 0.8695\n",
      "The time for running this method is 319.941831827 seconds \n",
      "Finsh playing start pruining:\n",
      "Test after pruning= 0.88\n",
      "Test after pruning= 0.88\n",
      "Test after pruning= 0.89\n",
      "Test after pruning= 0.89\n",
      "Test after pruning= 0.89\n",
      "Test after pruning= 0.89\n",
      "Test after pruning= 0.89\n",
      "Test after pruning= 0.89\n",
      "Test after pruning= 0.89\n",
      "Test after pruning= 0.89\n",
      "Test after pruning= 0.89\n",
      "Test after pruning= 0.89\n",
      "Test after pruning= 0.89\n",
      "Test after pruning= 0.89\n",
      "Test after pruning= 0.89\n",
      "Test after pruning= 0.89\n",
      "Test after pruning= 0.89\n",
      "Test after pruning= 0.89\n",
      "Test after pruning= 0.88\n",
      "Test after pruning= 0.88\n",
      "Test after pruning= 0.88\n",
      "Test after pruning= 0.88\n",
      "Test after pruning= 0.88\n",
      "Test after pruning= 0.88\n",
      "Test after pruning= 0.88\n",
      "Test after pruning= 0.87\n",
      "Test after pruning= 0.87\n",
      "Test after pruning= 0.87\n",
      "Test after pruning= 0.86\n",
      "Test after pruning= 0.86\n",
      "Test after pruning= 0.86\n",
      "Test after pruning= 0.85\n",
      "Test after pruning= 0.85\n",
      "Test after pruning= 0.84\n",
      "Test after pruning= 0.84\n",
      "Test after pruning= 0.83\n",
      "Test after pruning= 0.83\n",
      "Test after pruning= 0.83\n",
      "Test after pruning= 0.82\n",
      "Test after pruning= 0.81\n",
      "Test after pruning= 0.80\n",
      "Test after pruning= 0.79\n",
      "Test after pruning= 0.78\n",
      "Test after pruning= 0.77\n",
      "Test after pruning= 0.75\n",
      "Test after pruning= 0.74\n",
      "Test after pruning= 0.73\n",
      "Test after pruning= 0.72\n",
      "Test after pruning= 0.70\n",
      "Test after pruning= 0.69\n",
      "Test after pruning= 0.67\n",
      "Test after pruning= 0.66\n",
      "Test after pruning= 0.65\n",
      "Test after pruning= 0.64\n",
      "Test after pruning= 0.62\n",
      "Test after pruning= 0.62\n",
      "Test after pruning= 0.62\n",
      "Test after pruning= 0.62\n",
      "Test after pruning= 0.62\n",
      "Test after pruning= 0.62\n",
      "Test after pruning= 0.60\n",
      "Test after pruning= 0.60\n",
      "Test after pruning= 0.60\n",
      "Test after pruning= 0.60\n",
      "Test after pruning= 0.60\n",
      "Test after pruning= 0.60\n",
      "Test after pruning= 0.60\n",
      "Test after pruning= 0.60\n",
      "Test after pruning= 0.60\n",
      "Test after pruning= 0.60\n",
      "Test after pruning= 0.60\n",
      "Test after pruning= 0.60\n",
      "Test after pruning= 0.60\n",
      "Test after pruning= 0.60\n",
      "Test after pruning= 0.60\n",
      "Test after pruning= 0.60\n",
      "Test after pruning= 0.60\n",
      "Test after pruning= 0.60\n",
      "Test after pruning= 0.60\n",
      "Test after pruning= 0.60\n",
      "Test after pruning= 0.60\n",
      "Test after pruning= 0.60\n",
      "Test after pruning= 0.60\n",
      "Test after pruning= 0.59\n",
      "Test after pruning= 0.59\n",
      "Test after pruning= 0.59\n",
      "Test after pruning= 0.59\n",
      "Test after pruning= 0.59\n",
      "Test after pruning= 0.59\n",
      "Test after pruning= 0.59\n",
      "Test after pruning= 0.59\n",
      "Test after pruning= 0.59\n",
      "Test after pruning= 0.59\n",
      "Test after pruning= 0.59\n",
      "Test after pruning= 0.59\n",
      "Test after pruning= 0.59\n",
      "Test after pruning= 0.59\n",
      "Test after pruning= 0.59\n",
      "Test after pruning= 0.59\n",
      "Test after pruning= 0.59\n"
     ]
    },
    {
     "data": {
      "image/png": "[encoded data removed]",
      "text/plain": [
       "<matplotlib.figure.Figure at 0x7ff41326e710>"
      ]
     },
     "metadata": {},
     "output_type": "display_data"
    }
   ],
   "source": [
    "algo = UCB1([], [])\n",
    "Alg_name = 'UCB1 Algorithm'\n",
    "path = './IrisUCB1/'\n",
    "sys.path.append(\"./IrisUCB1\")\n",
    "execfile('mnist_cnnFORTESTING.py')"
   ]
  },
  {
   "cell_type": "markdown",
   "metadata": {},
   "source": [
    "# Run Annealing Epsilon Greedy pruning Algorithm"
   ]
  },
  {
   "cell_type": "code",
   "execution_count": 6,
   "metadata": {
    "collapsed": false
   },
   "outputs": [
    {
     "name": "stdout",
     "output_type": "stream",
     "text": [
      "Loading data...\n",
      "20000 train sequences\n",
      "5000 test sequences\n",
      "Pad sequences (samples x time)\n",
      "X_train shape: (20000, 400)\n",
      "X_test shape: (5000, 400)\n",
      "Build model...\n",
      "Test score: 0.286607864857\n",
      "Test accuracy: 0.8695\n",
      "The time for running this method is 322.308117151 seconds \n",
      "Finsh playing start pruining:\n",
      "Test after pruning= 0.88\n",
      "Test after pruning= 0.88\n",
      "Test after pruning= 0.88\n",
      "Test after pruning= 0.88\n",
      "Test after pruning= 0.88\n",
      "Test after pruning= 0.88\n",
      "Test after pruning= 0.88\n",
      "Test after pruning= 0.88\n",
      "Test after pruning= 0.88\n",
      "Test after pruning= 0.88\n",
      "Test after pruning= 0.88\n",
      "Test after pruning= 0.88\n",
      "Test after pruning= 0.88\n",
      "Test after pruning= 0.88\n",
      "Test after pruning= 0.88\n",
      "Test after pruning= 0.88\n",
      "Test after pruning= 0.88\n",
      "Test after pruning= 0.88\n",
      "Test after pruning= 0.88\n",
      "Test after pruning= 0.88\n",
      "Test after pruning= 0.88\n",
      "Test after pruning= 0.88\n",
      "Test after pruning= 0.88\n",
      "Test after pruning= 0.88\n",
      "Test after pruning= 0.88\n",
      "Test after pruning= 0.88\n",
      "Test after pruning= 0.88\n",
      "Test after pruning= 0.88\n",
      "Test after pruning= 0.88\n",
      "Test after pruning= 0.89\n",
      "Test after pruning= 0.89\n",
      "Test after pruning= 0.89\n",
      "Test after pruning= 0.89\n",
      "Test after pruning= 0.89\n",
      "Test after pruning= 0.89\n",
      "Test after pruning= 0.89\n",
      "Test after pruning= 0.89\n",
      "Test after pruning= 0.89\n",
      "Test after pruning= 0.89\n",
      "Test after pruning= 0.89\n",
      "Test after pruning= 0.89\n",
      "Test after pruning= 0.89\n",
      "Test after pruning= 0.89\n",
      "Test after pruning= 0.89\n",
      "Test after pruning= 0.89\n",
      "Test after pruning= 0.89\n",
      "Test after pruning= 0.89\n",
      "Test after pruning= 0.89\n",
      "Test after pruning= 0.89\n",
      "Test after pruning= 0.89\n",
      "Test after pruning= 0.89\n",
      "Test after pruning= 0.89\n",
      "Test after pruning= 0.89\n",
      "Test after pruning= 0.89\n",
      "Test after pruning= 0.89\n",
      "Test after pruning= 0.89\n",
      "Test after pruning= 0.89\n",
      "Test after pruning= 0.89\n",
      "Test after pruning= 0.89\n",
      "Test after pruning= 0.89\n",
      "Test after pruning= 0.89\n",
      "Test after pruning= 0.89\n",
      "Test after pruning= 0.89\n",
      "Test after pruning= 0.89\n",
      "Test after pruning= 0.89\n",
      "Test after pruning= 0.89\n",
      "Test after pruning= 0.89\n",
      "Test after pruning= 0.89\n",
      "Test after pruning= 0.89\n",
      "Test after pruning= 0.89\n",
      "Test after pruning= 0.89\n",
      "Test after pruning= 0.89\n",
      "Test after pruning= 0.89\n",
      "Test after pruning= 0.89\n",
      "Test after pruning= 0.89\n",
      "Test after pruning= 0.89\n",
      "Test after pruning= 0.89\n",
      "Test after pruning= 0.89\n",
      "Test after pruning= 0.89\n",
      "Test after pruning= 0.89\n",
      "Test after pruning= 0.89\n",
      "Test after pruning= 0.89\n",
      "Test after pruning= 0.89\n",
      "Test after pruning= 0.89\n",
      "Test after pruning= 0.89\n",
      "Test after pruning= 0.89\n",
      "Test after pruning= 0.89\n",
      "Test after pruning= 0.89\n",
      "Test after pruning= 0.89\n",
      "Test after pruning= 0.89\n",
      "Test after pruning= 0.89\n",
      "Test after pruning= 0.89\n",
      "Test after pruning= 0.89\n",
      "Test after pruning= 0.89\n",
      "Test after pruning= 0.89\n",
      "Test after pruning= 0.89\n",
      "Test after pruning= 0.89\n",
      "Test after pruning= 0.89\n",
      "Test after pruning= 0.89\n",
      "Test after pruning= 0.89\n"
     ]
    },
    {
     "data": {
      "image/png": "[encoded data removed]",
      "text/plain": [
       "<matplotlib.figure.Figure at 0x7ff41bb817d0>"
      ]
     },
     "metadata": {},
     "output_type": "display_data"
    }
   ],
   "source": [
    "algo = AnnealingEpsilonGreedy([], [])\n",
    "Alg_name = 'Annealing Epsilon Greedy Algorithm'\n",
    "path = './IrisAnnealingEpsilonGreedy/'\n",
    "sys.path.append(\"./IrisAnnealingEpsilonGreedy\")\n",
    "execfile('mnist_cnnFORTESTING.py')"
   ]
  },
  {
   "cell_type": "markdown",
   "metadata": {},
   "source": [
    "# Run Epsilon Greedy pruning Algorithm"
   ]
  },
  {
   "cell_type": "code",
   "execution_count": 7,
   "metadata": {
    "collapsed": false
   },
   "outputs": [
    {
     "name": "stdout",
     "output_type": "stream",
     "text": [
      "Loading data...\n",
      "20000 train sequences\n",
      "5000 test sequences\n",
      "Pad sequences (samples x time)\n",
      "X_train shape: (20000, 400)\n",
      "X_test shape: (5000, 400)\n",
      "Build model...\n",
      "Test score: 0.286607864857\n",
      "Test accuracy: 0.8695\n",
      "The time for running this method is 319.722815037 seconds \n",
      "Finsh playing start pruining:\n",
      "Test after pruning= 0.88\n",
      "Test after pruning= 0.88\n",
      "Test after pruning= 0.88\n",
      "Test after pruning= 0.88\n",
      "Test after pruning= 0.88\n",
      "Test after pruning= 0.88\n",
      "Test after pruning= 0.88\n",
      "Test after pruning= 0.89\n",
      "Test after pruning= 0.89\n",
      "Test after pruning= 0.89\n",
      "Test after pruning= 0.89\n",
      "Test after pruning= 0.89\n",
      "Test after pruning= 0.89\n",
      "Test after pruning= 0.89\n",
      "Test after pruning= 0.89\n",
      "Test after pruning= 0.89\n",
      "Test after pruning= 0.89\n",
      "Test after pruning= 0.89\n",
      "Test after pruning= 0.89\n",
      "Test after pruning= 0.89\n",
      "Test after pruning= 0.89\n",
      "Test after pruning= 0.89\n",
      "Test after pruning= 0.89\n",
      "Test after pruning= 0.89\n",
      "Test after pruning= 0.89\n",
      "Test after pruning= 0.89\n",
      "Test after pruning= 0.89\n",
      "Test after pruning= 0.89\n",
      "Test after pruning= 0.89\n",
      "Test after pruning= 0.89\n",
      "Test after pruning= 0.89\n",
      "Test after pruning= 0.89\n",
      "Test after pruning= 0.89\n",
      "Test after pruning= 0.89\n",
      "Test after pruning= 0.89\n",
      "Test after pruning= 0.89\n",
      "Test after pruning= 0.89\n",
      "Test after pruning= 0.89\n",
      "Test after pruning= 0.89\n",
      "Test after pruning= 0.89\n",
      "Test after pruning= 0.89\n",
      "Test after pruning= 0.89\n",
      "Test after pruning= 0.88\n",
      "Test after pruning= 0.89\n",
      "Test after pruning= 0.89\n",
      "Test after pruning= 0.89\n",
      "Test after pruning= 0.89\n",
      "Test after pruning= 0.89\n",
      "Test after pruning= 0.89\n",
      "Test after pruning= 0.89\n",
      "Test after pruning= 0.89\n",
      "Test after pruning= 0.89\n",
      "Test after pruning= 0.89\n",
      "Test after pruning= 0.89\n",
      "Test after pruning= 0.89\n",
      "Test after pruning= 0.89\n",
      "Test after pruning= 0.89\n",
      "Test after pruning= 0.89\n",
      "Test after pruning= 0.89\n",
      "Test after pruning= 0.89\n",
      "Test after pruning= 0.89\n",
      "Test after pruning= 0.89\n",
      "Test after pruning= 0.89\n",
      "Test after pruning= 0.89\n",
      "Test after pruning= 0.89\n",
      "Test after pruning= 0.89\n",
      "Test after pruning= 0.89\n",
      "Test after pruning= 0.89\n",
      "Test after pruning= 0.89\n",
      "Test after pruning= 0.89\n",
      "Test after pruning= 0.89\n",
      "Test after pruning= 0.89\n",
      "Test after pruning= 0.89\n",
      "Test after pruning= 0.89\n",
      "Test after pruning= 0.89\n",
      "Test after pruning= 0.89\n",
      "Test after pruning= 0.89\n",
      "Test after pruning= 0.89\n",
      "Test after pruning= 0.89\n",
      "Test after pruning= 0.89\n",
      "Test after pruning= 0.89\n",
      "Test after pruning= 0.89\n",
      "Test after pruning= 0.89\n",
      "Test after pruning= 0.89\n",
      "Test after pruning= 0.88\n",
      "Test after pruning= 0.88\n",
      "Test after pruning= 0.89\n",
      "Test after pruning= 0.89\n",
      "Test after pruning= 0.89\n",
      "Test after pruning= 0.89\n",
      "Test after pruning= 0.89\n",
      "Test after pruning= 0.89\n",
      "Test after pruning= 0.89\n",
      "Test after pruning= 0.89\n",
      "Test after pruning= 0.89\n",
      "Test after pruning= 0.89\n",
      "Test after pruning= 0.89\n",
      "Test after pruning= 0.89\n",
      "Test after pruning= 0.89\n",
      "Test after pruning= 0.89\n"
     ]
    },
    {
     "data": {
      "image/png": "[encoded data removed]",
      "text/plain": [
       "<matplotlib.figure.Figure at 0x7ff41afeffd0>"
      ]
     },
     "metadata": {},
     "output_type": "display_data"
    }
   ],
   "source": [
    "epsilon = 0.9 # epsilon = (0,1)\n",
    "algo = EpsilonGreedy(epsilon, [], [])\n",
    "Alg_name = 'Epsilon Greedy Algorithm'\n",
    "path = './IrisEpsilonGreedy/'\n",
    "sys.path.append(\"./IrisAnnealingEpsilonGreedy\")\n",
    "execfile('mnist_cnnFORTESTING.py')"
   ]
  },
  {
   "cell_type": "markdown",
   "metadata": {},
   "source": [
    "# Run Exp3 pruning Algorithm"
   ]
  },
  {
   "cell_type": "code",
   "execution_count": 8,
   "metadata": {
    "collapsed": false,
    "scrolled": true
   },
   "outputs": [
    {
     "name": "stdout",
     "output_type": "stream",
     "text": [
      "Loading data...\n",
      "20000 train sequences\n",
      "5000 test sequences\n",
      "Pad sequences (samples x time)\n",
      "X_train shape: (20000, 400)\n",
      "X_test shape: (5000, 400)\n",
      "Build model...\n",
      "Test score: 0.286607864857\n",
      "Test accuracy: 0.8695\n",
      "The time for running this method is 323.574971914 seconds \n",
      "Finsh playing start pruining:\n",
      "Test after pruning= 0.88\n",
      "Test after pruning= 0.88\n",
      "Test after pruning= 0.88\n",
      "Test after pruning= 0.88\n",
      "Test after pruning= 0.88\n",
      "Test after pruning= 0.88\n",
      "Test after pruning= 0.88\n",
      "Test after pruning= 0.88\n",
      "Test after pruning= 0.88\n",
      "Test after pruning= 0.88\n",
      "Test after pruning= 0.88\n",
      "Test after pruning= 0.88\n",
      "Test after pruning= 0.88\n",
      "Test after pruning= 0.88\n",
      "Test after pruning= 0.88\n",
      "Test after pruning= 0.88\n",
      "Test after pruning= 0.88\n",
      "Test after pruning= 0.88\n",
      "Test after pruning= 0.88\n",
      "Test after pruning= 0.88\n",
      "Test after pruning= 0.88\n",
      "Test after pruning= 0.88\n",
      "Test after pruning= 0.88\n",
      "Test after pruning= 0.88\n",
      "Test after pruning= 0.88\n",
      "Test after pruning= 0.88\n",
      "Test after pruning= 0.88\n",
      "Test after pruning= 0.88\n",
      "Test after pruning= 0.88\n",
      "Test after pruning= 0.88\n",
      "Test after pruning= 0.88\n",
      "Test after pruning= 0.88\n",
      "Test after pruning= 0.88\n",
      "Test after pruning= 0.88\n",
      "Test after pruning= 0.88\n",
      "Test after pruning= 0.88\n",
      "Test after pruning= 0.88\n",
      "Test after pruning= 0.88\n",
      "Test after pruning= 0.88\n",
      "Test after pruning= 0.88\n",
      "Test after pruning= 0.88\n",
      "Test after pruning= 0.88\n",
      "Test after pruning= 0.88\n",
      "Test after pruning= 0.88\n",
      "Test after pruning= 0.88\n",
      "Test after pruning= 0.88\n",
      "Test after pruning= 0.88\n",
      "Test after pruning= 0.88\n",
      "Test after pruning= 0.88\n",
      "Test after pruning= 0.88\n",
      "Test after pruning= 0.88\n",
      "Test after pruning= 0.88\n",
      "Test after pruning= 0.88\n",
      "Test after pruning= 0.88\n",
      "Test after pruning= 0.88\n",
      "Test after pruning= 0.88\n",
      "Test after pruning= 0.88\n",
      "Test after pruning= 0.88\n",
      "Test after pruning= 0.88\n",
      "Test after pruning= 0.88\n",
      "Test after pruning= 0.88\n",
      "Test after pruning= 0.88\n",
      "Test after pruning= 0.89\n",
      "Test after pruning= 0.89\n",
      "Test after pruning= 0.89\n",
      "Test after pruning= 0.89\n",
      "Test after pruning= 0.89\n",
      "Test after pruning= 0.89\n",
      "Test after pruning= 0.89\n",
      "Test after pruning= 0.89\n",
      "Test after pruning= 0.89\n",
      "Test after pruning= 0.89\n",
      "Test after pruning= 0.89\n",
      "Test after pruning= 0.89\n",
      "Test after pruning= 0.89\n",
      "Test after pruning= 0.89\n",
      "Test after pruning= 0.89\n",
      "Test after pruning= 0.89\n",
      "Test after pruning= 0.89\n",
      "Test after pruning= 0.89\n",
      "Test after pruning= 0.89\n",
      "Test after pruning= 0.89\n",
      "Test after pruning= 0.89\n",
      "Test after pruning= 0.89\n",
      "Test after pruning= 0.89\n",
      "Test after pruning= 0.89\n",
      "Test after pruning= 0.89\n",
      "Test after pruning= 0.89\n",
      "Test after pruning= 0.89\n",
      "Test after pruning= 0.89\n",
      "Test after pruning= 0.89\n",
      "Test after pruning= 0.89\n",
      "Test after pruning= 0.89\n",
      "Test after pruning= 0.89\n",
      "Test after pruning= 0.89\n",
      "Test after pruning= 0.89\n",
      "Test after pruning= 0.88\n",
      "Test after pruning= 0.88\n",
      "Test after pruning= 0.89\n",
      "Test after pruning= 0.89\n"
     ]
    },
    {
     "data": {
      "image/png": "[encoded data removed]",
      "text/plain": [
       "<matplotlib.figure.Figure at 0x7ff41afebfd0>"
      ]
     },
     "metadata": {},
     "output_type": "display_data"
    }
   ],
   "source": [
    "exp3_gamma = 0.2 #exp3_gamma in [0.1, 0.2, 0.3, 0.4, 0.5]\n",
    "algo = Exp3(exp3_gamma, [])\n",
    "Alg_name = 'Exp3 Algorithm'\n",
    "path = './IrisExp3/'\n",
    "sys.path.append(\"./IrisEpsilonGreedy\")\n",
    "execfile('mnist_cnnFORTESTING.py')"
   ]
  },
  {
   "cell_type": "markdown",
   "metadata": {},
   "source": [
    "# Run Softmax pruning Algorithm"
   ]
  },
  {
   "cell_type": "code",
   "execution_count": 9,
   "metadata": {
    "collapsed": false
   },
   "outputs": [
    {
     "name": "stdout",
     "output_type": "stream",
     "text": [
      "Loading data...\n",
      "20000 train sequences\n",
      "5000 test sequences\n",
      "Pad sequences (samples x time)\n",
      "X_train shape: (20000, 400)\n",
      "X_test shape: (5000, 400)\n",
      "Build model...\n",
      "Test score: 0.286607864857\n",
      "Test accuracy: 0.8695\n",
      "The time for running this method is 321.292861938 seconds \n",
      "Finsh playing start pruining:\n",
      "Test after pruning= 0.88\n",
      "Test after pruning= 0.88\n",
      "Test after pruning= 0.88\n",
      "Test after pruning= 0.88\n",
      "Test after pruning= 0.88\n",
      "Test after pruning= 0.88\n",
      "Test after pruning= 0.88\n",
      "Test after pruning= 0.88\n",
      "Test after pruning= 0.88\n",
      "Test after pruning= 0.88\n",
      "Test after pruning= 0.88\n",
      "Test after pruning= 0.88\n",
      "Test after pruning= 0.88\n",
      "Test after pruning= 0.88\n",
      "Test after pruning= 0.88\n",
      "Test after pruning= 0.88\n",
      "Test after pruning= 0.88\n",
      "Test after pruning= 0.88\n",
      "Test after pruning= 0.88\n",
      "Test after pruning= 0.88\n",
      "Test after pruning= 0.88\n",
      "Test after pruning= 0.88\n",
      "Test after pruning= 0.88\n",
      "Test after pruning= 0.88\n",
      "Test after pruning= 0.88\n",
      "Test after pruning= 0.88\n",
      "Test after pruning= 0.88\n",
      "Test after pruning= 0.88\n",
      "Test after pruning= 0.88\n",
      "Test after pruning= 0.88\n",
      "Test after pruning= 0.88\n",
      "Test after pruning= 0.88\n",
      "Test after pruning= 0.88\n",
      "Test after pruning= 0.88\n",
      "Test after pruning= 0.88\n",
      "Test after pruning= 0.88\n",
      "Test after pruning= 0.88\n",
      "Test after pruning= 0.88\n",
      "Test after pruning= 0.88\n",
      "Test after pruning= 0.88\n",
      "Test after pruning= 0.88\n",
      "Test after pruning= 0.88\n",
      "Test after pruning= 0.88\n",
      "Test after pruning= 0.88\n",
      "Test after pruning= 0.88\n",
      "Test after pruning= 0.88\n",
      "Test after pruning= 0.88\n",
      "Test after pruning= 0.88\n",
      "Test after pruning= 0.88\n",
      "Test after pruning= 0.88\n",
      "Test after pruning= 0.88\n",
      "Test after pruning= 0.88\n",
      "Test after pruning= 0.88\n",
      "Test after pruning= 0.88\n",
      "Test after pruning= 0.88\n",
      "Test after pruning= 0.88\n",
      "Test after pruning= 0.88\n",
      "Test after pruning= 0.88\n",
      "Test after pruning= 0.88\n",
      "Test after pruning= 0.88\n",
      "Test after pruning= 0.88\n",
      "Test after pruning= 0.88\n",
      "Test after pruning= 0.88\n",
      "Test after pruning= 0.88\n",
      "Test after pruning= 0.88\n",
      "Test after pruning= 0.88\n",
      "Test after pruning= 0.88\n",
      "Test after pruning= 0.88\n",
      "Test after pruning= 0.88\n",
      "Test after pruning= 0.88\n",
      "Test after pruning= 0.88\n",
      "Test after pruning= 0.89\n",
      "Test after pruning= 0.89\n",
      "Test after pruning= 0.89\n",
      "Test after pruning= 0.89\n",
      "Test after pruning= 0.89\n",
      "Test after pruning= 0.89\n",
      "Test after pruning= 0.89\n",
      "Test after pruning= 0.89\n",
      "Test after pruning= 0.89\n",
      "Test after pruning= 0.89\n",
      "Test after pruning= 0.89\n",
      "Test after pruning= 0.89\n",
      "Test after pruning= 0.89\n",
      "Test after pruning= 0.89\n",
      "Test after pruning= 0.89\n",
      "Test after pruning= 0.89\n",
      "Test after pruning= 0.89\n",
      "Test after pruning= 0.89\n",
      "Test after pruning= 0.88\n",
      "Test after pruning= 0.88\n",
      "Test after pruning= 0.88\n",
      "Test after pruning= 0.88\n",
      "Test after pruning= 0.87\n",
      "Test after pruning= 0.87\n",
      "Test after pruning= 0.87\n",
      "Test after pruning= 0.87\n",
      "Test after pruning= 0.88\n",
      "Test after pruning= 0.88\n",
      "Test after pruning= 0.88\n"
     ]
    },
    {
     "data": {
      "image/png": "[encoded data removed]",
      "text/plain": [
       "<matplotlib.figure.Figure at 0x7ff413295fd0>"
      ]
     },
     "metadata": {},
     "output_type": "display_data"
    }
   ],
   "source": [
    "temperature = 0.9\n",
    "algo = Softmax(temperature, [], [])\n",
    "Alg_name = 'Softmax Algorithm'\n",
    "path = './IrisSoftmax/'\n",
    "sys.path.append(\"./IrisSoftmax\")\n",
    "execfile('mnist_cnnFORTESTING.py')"
   ]
  },
  {
   "cell_type": "markdown",
   "metadata": {},
   "source": [
    "# Run Annealing Softmax pruning Algorithm"
   ]
  },
  {
   "cell_type": "code",
   "execution_count": 10,
   "metadata": {
    "collapsed": false
   },
   "outputs": [
    {
     "name": "stdout",
     "output_type": "stream",
     "text": [
      "Loading data...\n",
      "20000 train sequences\n",
      "5000 test sequences\n",
      "Pad sequences (samples x time)\n",
      "X_train shape: (20000, 400)\n",
      "X_test shape: (5000, 400)\n",
      "Build model...\n",
      "Test score: 0.286607864857\n",
      "Test accuracy: 0.8695\n",
      "The time for running this method is 326.797125101 seconds \n",
      "Finsh playing start pruining:\n",
      "Test after pruning= 0.88\n",
      "Test after pruning= 0.88\n",
      "Test after pruning= 0.88\n",
      "Test after pruning= 0.88\n",
      "Test after pruning= 0.88\n",
      "Test after pruning= 0.88\n",
      "Test after pruning= 0.88\n",
      "Test after pruning= 0.88\n",
      "Test after pruning= 0.88\n",
      "Test after pruning= 0.88\n",
      "Test after pruning= 0.88\n",
      "Test after pruning= 0.88\n",
      "Test after pruning= 0.88\n",
      "Test after pruning= 0.88\n",
      "Test after pruning= 0.88\n",
      "Test after pruning= 0.88\n",
      "Test after pruning= 0.88\n",
      "Test after pruning= 0.88\n",
      "Test after pruning= 0.88\n",
      "Test after pruning= 0.88\n",
      "Test after pruning= 0.88\n",
      "Test after pruning= 0.88\n",
      "Test after pruning= 0.88\n",
      "Test after pruning= 0.88\n",
      "Test after pruning= 0.88\n",
      "Test after pruning= 0.88\n",
      "Test after pruning= 0.88\n",
      "Test after pruning= 0.89\n",
      "Test after pruning= 0.89\n",
      "Test after pruning= 0.89\n",
      "Test after pruning= 0.89\n",
      "Test after pruning= 0.89\n",
      "Test after pruning= 0.89\n",
      "Test after pruning= 0.89\n",
      "Test after pruning= 0.89\n",
      "Test after pruning= 0.89\n",
      "Test after pruning= 0.89\n",
      "Test after pruning= 0.89\n",
      "Test after pruning= 0.89\n",
      "Test after pruning= 0.89\n",
      "Test after pruning= 0.89\n",
      "Test after pruning= 0.89\n",
      "Test after pruning= 0.89\n",
      "Test after pruning= 0.89\n",
      "Test after pruning= 0.89\n",
      "Test after pruning= 0.89\n",
      "Test after pruning= 0.89\n",
      "Test after pruning= 0.89\n",
      "Test after pruning= 0.89\n",
      "Test after pruning= 0.89\n",
      "Test after pruning= 0.89\n",
      "Test after pruning= 0.89\n",
      "Test after pruning= 0.89\n",
      "Test after pruning= 0.89\n",
      "Test after pruning= 0.89\n",
      "Test after pruning= 0.88\n",
      "Test after pruning= 0.89\n",
      "Test after pruning= 0.89\n",
      "Test after pruning= 0.89\n",
      "Test after pruning= 0.89\n",
      "Test after pruning= 0.89\n",
      "Test after pruning= 0.89\n",
      "Test after pruning= 0.89\n",
      "Test after pruning= 0.89\n",
      "Test after pruning= 0.89\n",
      "Test after pruning= 0.89\n",
      "Test after pruning= 0.89\n",
      "Test after pruning= 0.89\n",
      "Test after pruning= 0.89\n",
      "Test after pruning= 0.89\n",
      "Test after pruning= 0.89\n",
      "Test after pruning= 0.89\n",
      "Test after pruning= 0.89\n",
      "Test after pruning= 0.89\n",
      "Test after pruning= 0.89\n",
      "Test after pruning= 0.89\n",
      "Test after pruning= 0.89\n",
      "Test after pruning= 0.89\n",
      "Test after pruning= 0.89\n",
      "Test after pruning= 0.89\n",
      "Test after pruning= 0.89\n",
      "Test after pruning= 0.89\n",
      "Test after pruning= 0.89\n",
      "Test after pruning= 0.89\n",
      "Test after pruning= 0.89\n",
      "Test after pruning= 0.89\n",
      "Test after pruning= 0.89\n",
      "Test after pruning= 0.89\n",
      "Test after pruning= 0.89\n",
      "Test after pruning= 0.89\n",
      "Test after pruning= 0.89\n",
      "Test after pruning= 0.89\n",
      "Test after pruning= 0.89\n",
      "Test after pruning= 0.89\n",
      "Test after pruning= 0.89\n",
      "Test after pruning= 0.89\n",
      "Test after pruning= 0.89\n",
      "Test after pruning= 0.89\n",
      "Test after pruning= 0.89\n",
      "Test after pruning= 0.89\n"
     ]
    },
    {
     "data": {
      "image/png": "[encoded data removed]",
      "text/plain": [
       "<matplotlib.figure.Figure at 0x7ff41ff70bd0>"
      ]
     },
     "metadata": {},
     "output_type": "display_data"
    }
   ],
   "source": [
    "algo = AnnealingSoftmax([], [])\n",
    "Alg_name = 'Annealing Softmax Algorithm'\n",
    "path = './IrisAnnealingSoftmax/'\n",
    "sys.path.append(\"./IrisAnnealingSoftmax\")\n",
    "execfile('mnist_cnnFORTESTING.py')"
   ]
  },
  {
   "cell_type": "markdown",
   "metadata": {},
   "source": [
    "# Run Hedge pruning Algorithm"
   ]
  },
  {
   "cell_type": "code",
   "execution_count": 11,
   "metadata": {
    "collapsed": false
   },
   "outputs": [
    {
     "name": "stdout",
     "output_type": "stream",
     "text": [
      "Loading data...\n",
      "20000 train sequences\n",
      "5000 test sequences\n",
      "Pad sequences (samples x time)\n",
      "X_train shape: (20000, 400)\n",
      "X_test shape: (5000, 400)\n",
      "Build model...\n",
      "Test score: 0.286607864857\n",
      "Test accuracy: 0.8695\n",
      "The time for running this method is 320.776856899 seconds \n",
      "Finsh playing start pruining:\n",
      "Test after pruning= 0.88\n",
      "Test after pruning= 0.88\n",
      "Test after pruning= 0.88\n",
      "Test after pruning= 0.88\n",
      "Test after pruning= 0.88\n",
      "Test after pruning= 0.88\n",
      "Test after pruning= 0.88\n",
      "Test after pruning= 0.88\n",
      "Test after pruning= 0.88\n",
      "Test after pruning= 0.88\n",
      "Test after pruning= 0.88\n",
      "Test after pruning= 0.88\n",
      "Test after pruning= 0.88\n",
      "Test after pruning= 0.88\n",
      "Test after pruning= 0.88\n",
      "Test after pruning= 0.88\n",
      "Test after pruning= 0.88\n",
      "Test after pruning= 0.88\n",
      "Test after pruning= 0.88\n",
      "Test after pruning= 0.88\n",
      "Test after pruning= 0.88\n",
      "Test after pruning= 0.88\n",
      "Test after pruning= 0.88\n",
      "Test after pruning= 0.88\n",
      "Test after pruning= 0.88\n",
      "Test after pruning= 0.88\n",
      "Test after pruning= 0.88\n",
      "Test after pruning= 0.88\n",
      "Test after pruning= 0.88\n",
      "Test after pruning= 0.88\n",
      "Test after pruning= 0.88\n",
      "Test after pruning= 0.88\n",
      "Test after pruning= 0.88\n",
      "Test after pruning= 0.88\n",
      "Test after pruning= 0.88\n",
      "Test after pruning= 0.88\n",
      "Test after pruning= 0.88\n",
      "Test after pruning= 0.88\n",
      "Test after pruning= 0.88\n",
      "Test after pruning= 0.88\n",
      "Test after pruning= 0.88\n",
      "Test after pruning= 0.88\n",
      "Test after pruning= 0.88\n",
      "Test after pruning= 0.88\n",
      "Test after pruning= 0.88\n",
      "Test after pruning= 0.88\n",
      "Test after pruning= 0.88\n",
      "Test after pruning= 0.88\n",
      "Test after pruning= 0.88\n",
      "Test after pruning= 0.88\n",
      "Test after pruning= 0.88\n",
      "Test after pruning= 0.88\n",
      "Test after pruning= 0.89\n",
      "Test after pruning= 0.89\n",
      "Test after pruning= 0.89\n",
      "Test after pruning= 0.89\n",
      "Test after pruning= 0.89\n",
      "Test after pruning= 0.89\n",
      "Test after pruning= 0.89\n",
      "Test after pruning= 0.89\n",
      "Test after pruning= 0.89\n",
      "Test after pruning= 0.89\n",
      "Test after pruning= 0.89\n",
      "Test after pruning= 0.89\n",
      "Test after pruning= 0.89\n",
      "Test after pruning= 0.89\n",
      "Test after pruning= 0.89\n",
      "Test after pruning= 0.89\n",
      "Test after pruning= 0.89\n",
      "Test after pruning= 0.89\n",
      "Test after pruning= 0.89\n",
      "Test after pruning= 0.89\n",
      "Test after pruning= 0.89\n",
      "Test after pruning= 0.89\n",
      "Test after pruning= 0.89\n",
      "Test after pruning= 0.89\n",
      "Test after pruning= 0.89\n",
      "Test after pruning= 0.89\n",
      "Test after pruning= 0.89\n",
      "Test after pruning= 0.89\n",
      "Test after pruning= 0.89\n",
      "Test after pruning= 0.89\n",
      "Test after pruning= 0.89\n",
      "Test after pruning= 0.89\n",
      "Test after pruning= 0.89\n",
      "Test after pruning= 0.89\n",
      "Test after pruning= 0.89\n",
      "Test after pruning= 0.89\n",
      "Test after pruning= 0.89\n",
      "Test after pruning= 0.89\n",
      "Test after pruning= 0.89\n",
      "Test after pruning= 0.88\n",
      "Test after pruning= 0.88\n",
      "Test after pruning= 0.88\n",
      "Test after pruning= 0.88\n",
      "Test after pruning= 0.88\n",
      "Test after pruning= 0.87\n",
      "Test after pruning= 0.87\n",
      "Test after pruning= 0.88\n",
      "Test after pruning= 0.88\n"
     ]
    },
    {
     "data": {
      "image/png": "[encoded data removed]",
      "text/plain": [
       "<matplotlib.figure.Figure at 0x7ff413265210>"
      ]
     },
     "metadata": {},
     "output_type": "display_data"
    }
   ],
   "source": [
    "eta = 0.9  # eta in [.5, .8, .9, 1, 2]\n",
    "algo = Hedge(eta, [], []) \n",
    "Alg_name = 'Hedge Algorithm'\n",
    "path = './IrisHedge/'\n",
    "sys.path.append(\"./IrisHedge\")\n",
    "execfile('mnist_cnnFORTESTING.py')"
   ]
  },
  {
   "cell_type": "markdown",
   "metadata": {},
   "source": [
    "# Compare the accuracy of the models"
   ]
  },
  {
   "cell_type": "code",
   "execution_count": 13,
   "metadata": {
    "collapsed": false
   },
   "outputs": [],
   "source": [
    "AccBefore = np.load('/home/salm/Documents/imdb_cnn/AccuracyBEFOREPrune.npy')\n",
    "ucb1 = np.load('/home/salm/Documents/imdb_cnn/IrisUCB1/AccuracyAftrerPrune.npy')\n",
    "EpsilonGreedy = np.load('/home/salm/Documents/imdb_cnn/IrisEpsilonGreedy/AccuracyAftrerPrune.npy')\n",
    "AnnealingEpsilonGreedy = np.load('/home/salm/Documents/imdb_cnn/IrisAnnealingEpsilonGreedy/AccuracyAftrerPrune.npy')\n",
    "Softmax = np.load('/home/salm/Documents/imdb_cnn/IrisSoftmax/AccuracyAftrerPrune.npy')\n",
    "AnnealingSoftmax = np.load('/home/salm/Documents/imdb_cnn/IrisAnnealingEpsilonGreedy/AccuracyAftrerPrune.npy')\n",
    "Exp3 = np.load('/home/salm/Documents/imdb_cnn/IrisExp3/AccuracyAftrerPrune.npy')\n",
    "Hedge = np.load('/home/salm/Documents/imdb_cnn/IrisHedge/AccuracyAftrerPrune.npy')"
   ]
  },
  {
   "cell_type": "code",
   "execution_count": 14,
   "metadata": {
    "collapsed": false
   },
   "outputs": [
    {
     "data": {
      "image/png": "[encoded data removed]",
      "text/plain": [
       "<matplotlib.figure.Figure at 0x7ff41ac27610>"
      ]
     },
     "metadata": {},
     "output_type": "display_data"
    }
   ],
   "source": [
    "fig = plt.figure(figsize=(10, 6), dpi=80)\n",
    "ax = fig.add_subplot(111)\n",
    "N = len(ucb1)\n",
    "## necessary variables\n",
    "ind = np.arange(N)                # the x locations for the groups\n",
    "plt.plot(ind , ucb1 , color=\"blue\", linewidth=2.5, linestyle=\"-\", label=\"UCB1\")\n",
    "plt.plot(ind , EpsilonGreedy, color=\"red\", linewidth=2.5, linestyle=\"-\", label=\"Epsilon Greedy\")\n",
    "plt.plot(ind , AnnealingEpsilonGreedy, color=\"cyan\", linewidth=2.5, linestyle=\"-\", label=\"Annealing Epsilon Greedy\")\n",
    "plt.plot(ind , Softmax, color=\"magenta\", linewidth=2.5, linestyle=\"-\", label=\"Softmax\")\n",
    "plt.plot(ind , AnnealingSoftmax, color=\"yellow\", linewidth=2.5, linestyle=\"-\", label=\"Annealing Softmax\")\n",
    "plt.plot(ind , Exp3, color=\"black\", linewidth=2.5, linestyle=\"-\", label=\"Exp3\")\n",
    "plt.plot(ind , Hedge, color=\"green\", linewidth=2.5, linestyle=\"-\", label=\"Hedge\")\n",
    "plt.plot(ind , AccBefore, color=\"0.75\", linewidth=2.5, linestyle=\"-\", label=\"Acc Before Pruning\")\n",
    "plt.legend(loc = 3)\n",
    "plt.axis([0, 100, 0, 1])\n",
    "plt.grid(True)\n",
    "plt.show()"
   ]
  },
  {
   "cell_type": "code",
   "execution_count": 17,
   "metadata": {
    "collapsed": false
   },
   "outputs": [
    {
     "data": {
      "image/png": "[encoded data removed]",
      "text/plain": [
       "<matplotlib.figure.Figure at 0x7ff41fc2ca50>"
      ]
     },
     "metadata": {},
     "output_type": "display_data"
    }
   ],
   "source": [
    "fig = plt.figure(figsize=(10, 6), dpi=80)\n",
    "ax = fig.add_subplot(111)\n",
    "N = len(ucb1)\n",
    "## necessary variables\n",
    "ind = np.arange(N)                # the x locations for the groups\n",
    "plt.plot(ind , ucb1 , color=\"blue\", linewidth=2.5, linestyle=\"-\", label=\"UCB1\")\n",
    "plt.plot(ind , EpsilonGreedy, color=\"red\", linewidth=2.5, linestyle=\"-\", label=\"Epsilon Greedy\")\n",
    "plt.plot(ind , AnnealingEpsilonGreedy, color=\"cyan\", linewidth=2.5, linestyle=\"-\", label=\"Annealing Epsilon Greedy\")\n",
    "plt.plot(ind , Softmax, color=\"magenta\", linewidth=2.5, linestyle=\"-\", label=\"Softmax\")\n",
    "plt.plot(ind , AnnealingSoftmax, color=\"yellow\", linewidth=2.5, linestyle=\"-\", label=\"Annealing Softmax\")\n",
    "plt.plot(ind , Exp3, color=\"black\", linewidth=2.5, linestyle=\"-\", label=\"Exp3\")\n",
    "plt.plot(ind , Hedge, color=\"green\", linewidth=2.5, linestyle=\"-\", label=\"Hedge\")\n",
    "plt.plot(ind , AccBefore, color=\"0.75\", linewidth=2.5, linestyle=\"-\", label=\"Acc Before Pruning\")\n",
    "plt.legend(loc = 3)\n",
    "plt.axis([0, 50, 0.6, 0.9])\n",
    "plt.grid(True)\n",
    "plt.show()"
   ]
  },
  {
   "cell_type": "code",
   "execution_count": 18,
   "metadata": {
    "collapsed": false
   },
   "outputs": [
    {
     "data": {
      "image/png": "[encoded data removed]",
      "text/plain": [
       "<matplotlib.figure.Figure at 0x7ff4139318d0>"
      ]
     },
     "metadata": {},
     "output_type": "display_data"
    }
   ],
   "source": [
    "fig = plt.figure(figsize=(10, 6), dpi=80)\n",
    "ax = fig.add_subplot(111)\n",
    "N = len(ucb1)\n",
    "## necessary variables\n",
    "ind = np.arange(N)                # the x locations for the groups\n",
    "plt.plot(ind , ucb1 , color=\"blue\", linewidth=2.5, linestyle=\"-\", label=\"UCB1\")\n",
    "plt.plot(ind , EpsilonGreedy, color=\"red\", linewidth=2.5, linestyle=\"-\", label=\"Epsilon Greedy\")\n",
    "plt.plot(ind , AnnealingEpsilonGreedy, color=\"cyan\", linewidth=2.5, linestyle=\"-\", label=\"Annealing Epsilon Greedy\")\n",
    "plt.plot(ind , Softmax, color=\"magenta\", linewidth=2.5, linestyle=\"-\", label=\"Softmax\")\n",
    "plt.plot(ind , AnnealingSoftmax, color=\"yellow\", linewidth=2.5, linestyle=\"-\", label=\"Annealing Softmax\")\n",
    "plt.plot(ind , Exp3, color=\"black\", linewidth=2.5, linestyle=\"-\", label=\"Exp3\")\n",
    "plt.plot(ind , Hedge, color=\"green\", linewidth=2.5, linestyle=\"-\", label=\"Hedge\")\n",
    "plt.plot(ind , AccBefore, color=\"0.75\", linewidth=2.5, linestyle=\"-\", label=\"Acc Before Pruning\")\n",
    "plt.legend(loc = 3)\n",
    "plt.axis([0, 30, 0.6, 0.9])\n",
    "plt.grid(True)\n",
    "plt.show()"
   ]
  }
 ],
 "metadata": {
  "kernelspec": {
   "display_name": "Python 2",
   "language": "python",
   "name": "python2"
  },
  "language_info": {
   "codemirror_mode": {
    "name": "ipython",
    "version": 2
   },
   "file_extension": ".py",
   "mimetype": "text/x-python",
   "name": "python",
   "nbconvert_exporter": "python",
   "pygments_lexer": "ipython2",
   "version": "2.7.11"
  }
 },
 "nbformat": 4,
 "nbformat_minor": 0
}
